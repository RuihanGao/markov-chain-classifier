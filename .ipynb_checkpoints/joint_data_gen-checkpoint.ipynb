{
 "cells": [
  {
   "cell_type": "code",
   "execution_count": 21,
   "metadata": {},
   "outputs": [],
   "source": [
    "%matplotlib inline\n",
    "import numpy as np\n",
    "import matplotlib.pyplot as plt\n",
    "import pandas as pd\n",
    "import os\n",
    "from scipy.signal import savgol_filter\n",
    "import torch\n",
    "import pickle"
   ]
  },
  {
   "cell_type": "code",
   "execution_count": 22,
   "metadata": {},
   "outputs": [],
   "source": [
    "# name of the object\n",
    "object_names = ['bathTowel',\n",
    "                 'cardBoard',\n",
    "                 'carpetNet',\n",
    "                 'cork',\n",
    "                 'cotton',\n",
    "                 'cuisionFoam',\n",
    "                 'denim',\n",
    "                 'eva',\n",
    "                 'fakeLeather',\n",
    "                 'felt',\n",
    "                 'fiberBoard',\n",
    "                 'metal',\n",
    "                 'paper1',\n",
    "                 'paper2',\n",
    "                 'polypropileno',\n",
    "                 'polypropilenoSmooth',\n",
    "                 'softMaterial1',\n",
    "                 'softMaterial2',\n",
    "                 'spongeWhiteSmall',\n",
    "                 'styrofoam',\n",
    "                 'thinPolypropylene',\n",
    "                 'woodHard',\n",
    "                 'yogaMat']"
   ]
  },
  {
   "cell_type": "code",
   "execution_count": 23,
   "metadata": {},
   "outputs": [],
   "source": [
    "data_dir_slide = 'slide_6_10/'\n",
    "data_dir_touch = 'touch_6_10/'"
   ]
  },
  {
   "cell_type": "code",
   "execution_count": null,
   "metadata": {},
   "outputs": [],
   "source": [
    "def generate_all_data(test_inds):\n",
    "    train_labels = {}\n",
    "    test_labels = {}\n",
    "\n",
    "    # test_inds = list(np.linspace(1,13, 13, dtype='int')*4)\n",
    "\n",
    "    train_count= 0\n",
    "    test_count = 0\n",
    "\n",
    "    data_dir = 'all_6_10/'\n",
    "    train_ids = []\n",
    "    test_ids = []\n",
    "\n",
    "    for obj_name in object_names:\n",
    "\n",
    "        # read each slide\n",
    "        for i in range(62):\n",
    "\n",
    "            touch_tensor = torch.load(data_dir_touch + obj_name + '_' + str(i) + '.pt')\n",
    "            slide_tensor = torch.load(data_dir_slide + obj_name + '_' + str(i) + '.pt')\n",
    "            all_tensor = torch.cat([touch_tensor, slide_tensor], dim=2)\n",
    "\n",
    "\n",
    "            name_convention = obj_name + '_' + str(i)\n",
    "            torch.save(all_tensor, data_dir + name_convention + '.pt')\n",
    "\n",
    "            if i in test_inds:\n",
    "                test_ids.append(name_convention)\n",
    "                test_labels[name_convention] = object_names.index(obj_name)\n",
    "                test_count += 1\n",
    "            else:\n",
    "                train_ids.append(name_convention)\n",
    "                train_labels[name_convention] = object_names.index(obj_name)\n",
    "                train_count += 1\n",
    "    pickle.dump([train_ids, train_labels, test_ids, test_labels], open('all_6_10.pkl','wb'))"
   ]
  }
 ],
 "metadata": {
  "kernelspec": {
   "display_name": "Python 3",
   "language": "python",
   "name": "python3"
  },
  "language_info": {
   "codemirror_mode": {
    "name": "ipython",
    "version": 3
   },
   "file_extension": ".py",
   "mimetype": "text/x-python",
   "name": "python",
   "nbconvert_exporter": "python",
   "pygments_lexer": "ipython3",
   "version": "3.7.3"
  }
 },
 "nbformat": 4,
 "nbformat_minor": 2
}
